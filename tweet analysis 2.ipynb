{
 "cells": [
  {
   "cell_type": "code",
   "execution_count": 1,
   "id": "e48b013f",
   "metadata": {},
   "outputs": [],
   "source": [
    "import pandas as pd\n",
    "import matplotlib.pyplot as plt\n",
    "%matplotlib inline\n",
    "from textblob import TextBlob\n",
    "import networkx as nx\n",
    "%matplotlib inline\n",
    "from ast import literal_eval"
   ]
  },
  {
   "cell_type": "code",
   "execution_count": 2,
   "id": "69f63bbf",
   "metadata": {},
   "outputs": [
    {
     "data": {
      "text/html": [
       "<div>\n",
       "<style scoped>\n",
       "    .dataframe tbody tr th:only-of-type {\n",
       "        vertical-align: middle;\n",
       "    }\n",
       "\n",
       "    .dataframe tbody tr th {\n",
       "        vertical-align: top;\n",
       "    }\n",
       "\n",
       "    .dataframe thead th {\n",
       "        text-align: right;\n",
       "    }\n",
       "</style>\n",
       "<table border=\"1\" class=\"dataframe\">\n",
       "  <thead>\n",
       "    <tr style=\"text-align: right;\">\n",
       "      <th></th>\n",
       "      <th>tweet_id</th>\n",
       "      <th>author_id</th>\n",
       "      <th>tweet_by</th>\n",
       "      <th>tweet_by_verified</th>\n",
       "      <th>user_location</th>\n",
       "      <th>text</th>\n",
       "      <th>clean_tweet</th>\n",
       "      <th>adjectives</th>\n",
       "      <th>sentiment_text</th>\n",
       "      <th>created_at</th>\n",
       "      <th>source</th>\n",
       "      <th>retweets</th>\n",
       "      <th>replies</th>\n",
       "      <th>likes</th>\n",
       "      <th>quote_count</th>\n",
       "      <th>hastags</th>\n",
       "      <th>mentions</th>\n",
       "      <th>subjectivity</th>\n",
       "      <th>polarity</th>\n",
       "      <th>sentiment</th>\n",
       "    </tr>\n",
       "  </thead>\n",
       "  <tbody>\n",
       "    <tr>\n",
       "      <th>0</th>\n",
       "      <td>1499894980454002691</td>\n",
       "      <td>120520987</td>\n",
       "      <td>mesushovan</td>\n",
       "      <td>False</td>\n",
       "      <td>India</td>\n",
       "      <td>Narendra \"Jumla\" Modi first said people consum...</td>\n",
       "      <td>first said people salt people salt nobody exce...</td>\n",
       "      <td>last wash</td>\n",
       "      <td>first said people salt people salt nobody exce...</td>\n",
       "      <td>2022-03-04 23:50:04+00:00</td>\n",
       "      <td>Twitter Web App</td>\n",
       "      <td>0</td>\n",
       "      <td>0</td>\n",
       "      <td>1</td>\n",
       "      <td>0</td>\n",
       "      <td>['UttarPradeshElections2022', 'OperationGanga']</td>\n",
       "      <td>[]</td>\n",
       "      <td>0.200000</td>\n",
       "      <td>0.125000</td>\n",
       "      <td>Positive</td>\n",
       "    </tr>\n",
       "    <tr>\n",
       "      <th>1</th>\n",
       "      <td>1499892794340478979</td>\n",
       "      <td>1235395793302872064</td>\n",
       "      <td>IAS_vinod_</td>\n",
       "      <td>False</td>\n",
       "      <td>Rajasthan, India</td>\n",
       "      <td>Jai hind salute \\n#OperationGanga https://t.co...</td>\n",
       "      <td>hind salute</td>\n",
       "      <td>NaN</td>\n",
       "      <td>hind salute</td>\n",
       "      <td>2022-03-04 23:41:23+00:00</td>\n",
       "      <td>Twitter for Android</td>\n",
       "      <td>0</td>\n",
       "      <td>0</td>\n",
       "      <td>3</td>\n",
       "      <td>0</td>\n",
       "      <td>['OperationGanga']</td>\n",
       "      <td>[]</td>\n",
       "      <td>0.000000</td>\n",
       "      <td>0.000000</td>\n",
       "      <td>Neutral</td>\n",
       "    </tr>\n",
       "    <tr>\n",
       "      <th>2</th>\n",
       "      <td>1499892360368594944</td>\n",
       "      <td>55627836</td>\n",
       "      <td>sujitmahapatra</td>\n",
       "      <td>False</td>\n",
       "      <td>NJ, USA</td>\n",
       "      <td>@Reuters #OperationGanga is underway by @MEAIn...</td>\n",
       "      <td>underway hope safe evacuation everyone trapped</td>\n",
       "      <td>safe</td>\n",
       "      <td>underway hope safe evacuation everyone trapped</td>\n",
       "      <td>2022-03-04 23:39:40+00:00</td>\n",
       "      <td>Twitter Web App</td>\n",
       "      <td>0</td>\n",
       "      <td>0</td>\n",
       "      <td>9</td>\n",
       "      <td>0</td>\n",
       "      <td>['OperationGanga']</td>\n",
       "      <td>['Reuters', 'MEAIndia']</td>\n",
       "      <td>0.250000</td>\n",
       "      <td>0.150000</td>\n",
       "      <td>Positive</td>\n",
       "    </tr>\n",
       "    <tr>\n",
       "      <th>3</th>\n",
       "      <td>1499891350476828673</td>\n",
       "      <td>1137953360462532608</td>\n",
       "      <td>MOS_MEA</td>\n",
       "      <td>True</td>\n",
       "      <td>NaN</td>\n",
       "      <td>#OperationGanga is in full swing, with over 11...</td>\n",
       "      <td>full swing far happy received group new airpor...</td>\n",
       "      <td>full happy new foreign constant</td>\n",
       "      <td>full swing far happy received group new airpor...</td>\n",
       "      <td>2022-03-04 23:35:39+00:00</td>\n",
       "      <td>Twitter for Android</td>\n",
       "      <td>44</td>\n",
       "      <td>5</td>\n",
       "      <td>197</td>\n",
       "      <td>4</td>\n",
       "      <td>['OperationGanga']</td>\n",
       "      <td>['AirAsiaIndia']</td>\n",
       "      <td>0.577146</td>\n",
       "      <td>0.210227</td>\n",
       "      <td>Positive</td>\n",
       "    </tr>\n",
       "    <tr>\n",
       "      <th>4</th>\n",
       "      <td>1499889930419548163</td>\n",
       "      <td>36327407</td>\n",
       "      <td>htTweets</td>\n",
       "      <td>True</td>\n",
       "      <td>India</td>\n",
       "      <td>A man from Kerala, along with his pregnant wif...</td>\n",
       "      <td>man along pregnant wife trapped ongoing move s...</td>\n",
       "      <td>pregnant ongoing</td>\n",
       "      <td>man along pregnant wife trapped ongoing move s...</td>\n",
       "      <td>2022-03-04 23:30:00+00:00</td>\n",
       "      <td>TweetDeck</td>\n",
       "      <td>9</td>\n",
       "      <td>2</td>\n",
       "      <td>22</td>\n",
       "      <td>0</td>\n",
       "      <td>['Kyiv', 'RussiaUkraineWar', 'OperationGanga']</td>\n",
       "      <td>[]</td>\n",
       "      <td>0.250000</td>\n",
       "      <td>0.066667</td>\n",
       "      <td>Positive</td>\n",
       "    </tr>\n",
       "    <tr>\n",
       "      <th>5</th>\n",
       "      <td>1499888253029212162</td>\n",
       "      <td>2261218201</td>\n",
       "      <td>RepublicBhratTV</td>\n",
       "      <td>False</td>\n",
       "      <td>Mumbai, India</td>\n",
       "      <td>In my opinion parents of all evacuated student...</td>\n",
       "      <td>opinion student taken free ride home country d...</td>\n",
       "      <td>free enough</td>\n",
       "      <td>opinion student taken free ride home country d...</td>\n",
       "      <td>2022-03-04 23:23:20+00:00</td>\n",
       "      <td>Twitter for iPhone</td>\n",
       "      <td>23</td>\n",
       "      <td>16</td>\n",
       "      <td>56</td>\n",
       "      <td>0</td>\n",
       "      <td>['Ukriane', 'pmcaresfund', 'OperationGanga']</td>\n",
       "      <td>['MeenaDasNarayan']</td>\n",
       "      <td>0.650000</td>\n",
       "      <td>0.200000</td>\n",
       "      <td>Positive</td>\n",
       "    </tr>\n",
       "    <tr>\n",
       "      <th>6</th>\n",
       "      <td>1499887031874625536</td>\n",
       "      <td>754932961691119616</td>\n",
       "      <td>agulindian</td>\n",
       "      <td>False</td>\n",
       "      <td>Melbourne, Victoria</td>\n",
       "      <td>@srivatsayb @RahulGandhi Just think before yiu...</td>\n",
       "      <td>think speak watching</td>\n",
       "      <td>NaN</td>\n",
       "      <td>think speak watching</td>\n",
       "      <td>2022-03-04 23:18:29+00:00</td>\n",
       "      <td>Twitter for iPhone</td>\n",
       "      <td>0</td>\n",
       "      <td>0</td>\n",
       "      <td>1</td>\n",
       "      <td>0</td>\n",
       "      <td>['operationganga']</td>\n",
       "      <td>['srivatsayb', 'RahulGandhi']</td>\n",
       "      <td>0.000000</td>\n",
       "      <td>0.000000</td>\n",
       "      <td>Neutral</td>\n",
       "    </tr>\n",
       "    <tr>\n",
       "      <th>7</th>\n",
       "      <td>1499886657159507970</td>\n",
       "      <td>381891557</td>\n",
       "      <td>eOrganiser</td>\n",
       "      <td>True</td>\n",
       "      <td>New Delhi</td>\n",
       "      <td>Congress, #RahulGandhi and  #NDTV used a Congr...</td>\n",
       "      <td>congress used congress leader daughter attack ...</td>\n",
       "      <td>congress</td>\n",
       "      <td>congress used congress leader daughter attack ...</td>\n",
       "      <td>2022-03-04 23:17:00+00:00</td>\n",
       "      <td>Twitter Web App</td>\n",
       "      <td>36</td>\n",
       "      <td>1</td>\n",
       "      <td>75</td>\n",
       "      <td>1</td>\n",
       "      <td>['RahulGandhi', 'NDTV', 'OperationGanga']</td>\n",
       "      <td>[]</td>\n",
       "      <td>0.000000</td>\n",
       "      <td>0.000000</td>\n",
       "      <td>Neutral</td>\n",
       "    </tr>\n",
       "    <tr>\n",
       "      <th>8</th>\n",
       "      <td>1499886597243871233</td>\n",
       "      <td>1482733308249264130</td>\n",
       "      <td>Deborah27264348</td>\n",
       "      <td>False</td>\n",
       "      <td>NaN</td>\n",
       "      <td>Nearly 10,800 Indians brought back by special ...</td>\n",
       "      <td>nearly brought back special far special civili...</td>\n",
       "      <td>special special civilian</td>\n",
       "      <td>nearly brought back special far special civili...</td>\n",
       "      <td>2022-03-04 23:16:45+00:00</td>\n",
       "      <td>Twitter for Android</td>\n",
       "      <td>1</td>\n",
       "      <td>0</td>\n",
       "      <td>1</td>\n",
       "      <td>0</td>\n",
       "      <td>['Ukraine', 'OperationGanga']</td>\n",
       "      <td>['MoCA_GoI']</td>\n",
       "      <td>0.590476</td>\n",
       "      <td>0.169048</td>\n",
       "      <td>Positive</td>\n",
       "    </tr>\n",
       "    <tr>\n",
       "      <th>9</th>\n",
       "      <td>1499886431153852416</td>\n",
       "      <td>1426305574258442242</td>\n",
       "      <td>RiddhiGoyal07</td>\n",
       "      <td>False</td>\n",
       "      <td>NaN</td>\n",
       "      <td>@Asifrahmanmolla Understand the agenda, Sir. #...</td>\n",
       "      <td>understand agenda sir till th march know know</td>\n",
       "      <td>understand</td>\n",
       "      <td>understand agenda sir till th march know know</td>\n",
       "      <td>2022-03-04 23:16:06+00:00</td>\n",
       "      <td>Twitter Web App</td>\n",
       "      <td>0</td>\n",
       "      <td>0</td>\n",
       "      <td>2</td>\n",
       "      <td>0</td>\n",
       "      <td>['OperationGanga']</td>\n",
       "      <td>['Asifrahmanmolla']</td>\n",
       "      <td>0.000000</td>\n",
       "      <td>0.000000</td>\n",
       "      <td>Neutral</td>\n",
       "    </tr>\n",
       "  </tbody>\n",
       "</table>\n",
       "</div>"
      ],
      "text/plain": [
       "              tweet_id            author_id         tweet_by  \\\n",
       "0  1499894980454002691            120520987       mesushovan   \n",
       "1  1499892794340478979  1235395793302872064       IAS_vinod_   \n",
       "2  1499892360368594944             55627836   sujitmahapatra   \n",
       "3  1499891350476828673  1137953360462532608          MOS_MEA   \n",
       "4  1499889930419548163             36327407         htTweets   \n",
       "5  1499888253029212162           2261218201  RepublicBhratTV   \n",
       "6  1499887031874625536   754932961691119616       agulindian   \n",
       "7  1499886657159507970            381891557       eOrganiser   \n",
       "8  1499886597243871233  1482733308249264130  Deborah27264348   \n",
       "9  1499886431153852416  1426305574258442242    RiddhiGoyal07   \n",
       "\n",
       "   tweet_by_verified        user_location  \\\n",
       "0              False                India   \n",
       "1              False     Rajasthan, India   \n",
       "2              False              NJ, USA   \n",
       "3               True                  NaN   \n",
       "4               True                India   \n",
       "5              False        Mumbai, India   \n",
       "6              False  Melbourne, Victoria   \n",
       "7               True            New Delhi   \n",
       "8              False                  NaN   \n",
       "9              False                  NaN   \n",
       "\n",
       "                                                text  \\\n",
       "0  Narendra \"Jumla\" Modi first said people consum...   \n",
       "1  Jai hind salute \\n#OperationGanga https://t.co...   \n",
       "2  @Reuters #OperationGanga is underway by @MEAIn...   \n",
       "3  #OperationGanga is in full swing, with over 11...   \n",
       "4  A man from Kerala, along with his pregnant wif...   \n",
       "5  In my opinion parents of all evacuated student...   \n",
       "6  @srivatsayb @RahulGandhi Just think before yiu...   \n",
       "7  Congress, #RahulGandhi and  #NDTV used a Congr...   \n",
       "8  Nearly 10,800 Indians brought back by special ...   \n",
       "9  @Asifrahmanmolla Understand the agenda, Sir. #...   \n",
       "\n",
       "                                         clean_tweet  \\\n",
       "0  first said people salt people salt nobody exce...   \n",
       "1                                        hind salute   \n",
       "2     underway hope safe evacuation everyone trapped   \n",
       "3  full swing far happy received group new airpor...   \n",
       "4  man along pregnant wife trapped ongoing move s...   \n",
       "5  opinion student taken free ride home country d...   \n",
       "6                               think speak watching   \n",
       "7  congress used congress leader daughter attack ...   \n",
       "8  nearly brought back special far special civili...   \n",
       "9      understand agenda sir till th march know know   \n",
       "\n",
       "                        adjectives  \\\n",
       "0                        last wash   \n",
       "1                              NaN   \n",
       "2                             safe   \n",
       "3  full happy new foreign constant   \n",
       "4                 pregnant ongoing   \n",
       "5                      free enough   \n",
       "6                              NaN   \n",
       "7                         congress   \n",
       "8         special special civilian   \n",
       "9                       understand   \n",
       "\n",
       "                                      sentiment_text  \\\n",
       "0  first said people salt people salt nobody exce...   \n",
       "1                                        hind salute   \n",
       "2     underway hope safe evacuation everyone trapped   \n",
       "3  full swing far happy received group new airpor...   \n",
       "4  man along pregnant wife trapped ongoing move s...   \n",
       "5  opinion student taken free ride home country d...   \n",
       "6                               think speak watching   \n",
       "7  congress used congress leader daughter attack ...   \n",
       "8  nearly brought back special far special civili...   \n",
       "9      understand agenda sir till th march know know   \n",
       "\n",
       "                  created_at               source  retweets  replies  likes  \\\n",
       "0  2022-03-04 23:50:04+00:00      Twitter Web App         0        0      1   \n",
       "1  2022-03-04 23:41:23+00:00  Twitter for Android         0        0      3   \n",
       "2  2022-03-04 23:39:40+00:00      Twitter Web App         0        0      9   \n",
       "3  2022-03-04 23:35:39+00:00  Twitter for Android        44        5    197   \n",
       "4  2022-03-04 23:30:00+00:00            TweetDeck         9        2     22   \n",
       "5  2022-03-04 23:23:20+00:00   Twitter for iPhone        23       16     56   \n",
       "6  2022-03-04 23:18:29+00:00   Twitter for iPhone         0        0      1   \n",
       "7  2022-03-04 23:17:00+00:00      Twitter Web App        36        1     75   \n",
       "8  2022-03-04 23:16:45+00:00  Twitter for Android         1        0      1   \n",
       "9  2022-03-04 23:16:06+00:00      Twitter Web App         0        0      2   \n",
       "\n",
       "   quote_count                                          hastags  \\\n",
       "0            0  ['UttarPradeshElections2022', 'OperationGanga']   \n",
       "1            0                               ['OperationGanga']   \n",
       "2            0                               ['OperationGanga']   \n",
       "3            4                               ['OperationGanga']   \n",
       "4            0   ['Kyiv', 'RussiaUkraineWar', 'OperationGanga']   \n",
       "5            0     ['Ukriane', 'pmcaresfund', 'OperationGanga']   \n",
       "6            0                               ['operationganga']   \n",
       "7            1        ['RahulGandhi', 'NDTV', 'OperationGanga']   \n",
       "8            0                    ['Ukraine', 'OperationGanga']   \n",
       "9            0                               ['OperationGanga']   \n",
       "\n",
       "                        mentions  subjectivity  polarity sentiment  \n",
       "0                             []      0.200000  0.125000  Positive  \n",
       "1                             []      0.000000  0.000000   Neutral  \n",
       "2        ['Reuters', 'MEAIndia']      0.250000  0.150000  Positive  \n",
       "3               ['AirAsiaIndia']      0.577146  0.210227  Positive  \n",
       "4                             []      0.250000  0.066667  Positive  \n",
       "5            ['MeenaDasNarayan']      0.650000  0.200000  Positive  \n",
       "6  ['srivatsayb', 'RahulGandhi']      0.000000  0.000000   Neutral  \n",
       "7                             []      0.000000  0.000000   Neutral  \n",
       "8                   ['MoCA_GoI']      0.590476  0.169048  Positive  \n",
       "9            ['Asifrahmanmolla']      0.000000  0.000000   Neutral  "
      ]
     },
     "execution_count": 2,
     "metadata": {},
     "output_type": "execute_result"
    }
   ],
   "source": [
    "raw_df=pd.read_csv('Tweets_Processed.csv')\n",
    "raw_df['hastags']= (raw_df['hastags'])\n",
    "raw_df"
   ]
  },
  {
   "cell_type": "code",
   "execution_count": 3,
   "id": "29066546",
   "metadata": {},
   "outputs": [
    {
     "data": {
      "text/plain": [
       "{'kyiv',\n",
       " 'ndtv',\n",
       " 'operationganga',\n",
       " 'pmcaresfund',\n",
       " 'rahulgandhi',\n",
       " 'russiaukrainewar',\n",
       " 'ukraine',\n",
       " 'ukriane',\n",
       " 'uttarpradeshelections2022'}"
      ]
     },
     "execution_count": 3,
     "metadata": {},
     "output_type": "execute_result"
    }
   ],
   "source": [
    "hash_tags=set()\n",
    "for tags in raw_df.hastags:\n",
    "    for s in literal_eval(tags):\n",
    "        hash_tags.add(s.lower())\n",
    "hash_tags"
   ]
  },
  {
   "cell_type": "code",
   "execution_count": 4,
   "id": "83826348",
   "metadata": {},
   "outputs": [
    {
     "data": {
      "text/plain": [
       "{'AirAsiaIndia',\n",
       " 'Asifrahmanmolla',\n",
       " 'MEAIndia',\n",
       " 'MeenaDasNarayan',\n",
       " 'MoCA_GoI',\n",
       " 'RahulGandhi',\n",
       " 'Reuters',\n",
       " 'srivatsayb'}"
      ]
     },
     "execution_count": 4,
     "metadata": {},
     "output_type": "execute_result"
    }
   ],
   "source": [
    "mentions=set()\n",
    "for mention in raw_df.mentions:\n",
    "    for m in literal_eval(mention):\n",
    "        mentions.add(m)\n",
    "mentions"
   ]
  },
  {
   "cell_type": "code",
   "execution_count": 5,
   "id": "3cfd5d0f",
   "metadata": {},
   "outputs": [],
   "source": [
    "\n",
    "graph1= nx.Graph()"
   ]
  },
  {
   "cell_type": "code",
   "execution_count": 6,
   "id": "8a8a1226",
   "metadata": {},
   "outputs": [],
   "source": [
    "def build_hash_tag_edges():\n",
    "    x=[]\n",
    "    y=[]\n",
    "    for idx, val in enumerate(raw_df.tweet_by.tolist()):\n",
    "         for s in literal_eval(raw_df.iloc[idx].hastags):\n",
    "                    x.append(val)\n",
    "                    y.append(s)\n",
    "    return list(zip(x, y))\n",
    "def build_mention_edges():\n",
    "    x=[]\n",
    "    y=[]\n",
    "    for idx, val in enumerate(raw_df.tweet_by.tolist()):\n",
    "         for s in literal_eval(raw_df.iloc[idx].mentions):\n",
    "                    x.append(val)\n",
    "                    y.append(s)\n",
    "    return list(zip(x, y))\n",
    "\n",
    "def add_nodes():\n",
    "    graph1.add_nodes_from(raw_df.tweet_by.tolist(), label='tweet_by')\n",
    "    graph1.add_nodes_from(raw_df.sentiment.tolist(),label='sentiment')\n",
    "    graph1.add_nodes_from(hash_tags,label='hash_tags')\n",
    "    graph1.add_nodes_from(mentions,label='mentions')\n",
    "        \n",
    "def add_edges():\n",
    "    sentiment_edges=list(zip(raw_df.tweet_by, raw_df.sentiment))\n",
    "    hash_tag_edges=build_hash_tag_edges()\n",
    "    mention_edges=build_mention_edges()\n",
    "    \n",
    "\n",
    "    print(hash_tag_edges)\n",
    "    graph1.add_edges_from(sentiment_edges, label='Sentiment')\n",
    "    graph1.add_edges_from(hash_tag_edges, label='tags')\n",
    "    graph1.add_edges_from(mention_edges, label='mentions')"
   ]
  },
  {
   "cell_type": "code",
   "execution_count": null,
   "id": "3fa9f7ef",
   "metadata": {},
   "outputs": [],
   "source": []
  },
  {
   "cell_type": "code",
   "execution_count": null,
   "id": "c47a950f",
   "metadata": {},
   "outputs": [],
   "source": []
  },
  {
   "cell_type": "code",
   "execution_count": 7,
   "id": "f401de15",
   "metadata": {},
   "outputs": [],
   "source": [
    "add_nodes()"
   ]
  },
  {
   "cell_type": "code",
   "execution_count": 8,
   "id": "6c018c95",
   "metadata": {},
   "outputs": [
    {
     "name": "stdout",
     "output_type": "stream",
     "text": [
      "[('mesushovan', 'UttarPradeshElections2022'), ('mesushovan', 'OperationGanga'), ('IAS_vinod_', 'OperationGanga'), ('sujitmahapatra', 'OperationGanga'), ('MOS_MEA', 'OperationGanga'), ('htTweets', 'Kyiv'), ('htTweets', 'RussiaUkraineWar'), ('htTweets', 'OperationGanga'), ('RepublicBhratTV', 'Ukriane'), ('RepublicBhratTV', 'pmcaresfund'), ('RepublicBhratTV', 'OperationGanga'), ('agulindian', 'operationganga'), ('eOrganiser', 'RahulGandhi'), ('eOrganiser', 'NDTV'), ('eOrganiser', 'OperationGanga'), ('Deborah27264348', 'Ukraine'), ('Deborah27264348', 'OperationGanga'), ('RiddhiGoyal07', 'OperationGanga')]\n"
     ]
    }
   ],
   "source": [
    "add_edges()"
   ]
  },
  {
   "cell_type": "code",
   "execution_count": null,
   "id": "82852e15",
   "metadata": {},
   "outputs": [],
   "source": []
  },
  {
   "cell_type": "code",
   "execution_count": null,
   "id": "4a8decf8",
   "metadata": {},
   "outputs": [],
   "source": []
  },
  {
   "cell_type": "code",
   "execution_count": null,
   "id": "5c578d08",
   "metadata": {},
   "outputs": [],
   "source": []
  },
  {
   "cell_type": "code",
   "execution_count": 9,
   "id": "4cb95101",
   "metadata": {},
   "outputs": [
    {
     "data": {
      "text/plain": [
       "'Graph with 36 nodes and 36 edges'"
      ]
     },
     "execution_count": 9,
     "metadata": {},
     "output_type": "execute_result"
    }
   ],
   "source": [
    "nx.info(graph1)"
   ]
  },
  {
   "cell_type": "code",
   "execution_count": 10,
   "id": "2f263ee2",
   "metadata": {},
   "outputs": [
    {
     "data": {
      "text/plain": [
       "NodeView(('mesushovan', 'IAS_vinod_', 'sujitmahapatra', 'MOS_MEA', 'htTweets', 'RepublicBhratTV', 'agulindian', 'eOrganiser', 'Deborah27264348', 'RiddhiGoyal07', 'Positive', 'Neutral', 'uttarpradeshelections2022', 'ukraine', 'pmcaresfund', 'ukriane', 'ndtv', 'operationganga', 'russiaukrainewar', 'rahulgandhi', 'kyiv', 'srivatsayb', 'MeenaDasNarayan', 'RahulGandhi', 'MoCA_GoI', 'Reuters', 'Asifrahmanmolla', 'AirAsiaIndia', 'MEAIndia', 'UttarPradeshElections2022', 'OperationGanga', 'Kyiv', 'RussiaUkraineWar', 'Ukriane', 'NDTV', 'Ukraine'))"
      ]
     },
     "execution_count": 10,
     "metadata": {},
     "output_type": "execute_result"
    }
   ],
   "source": [
    "graph1.nodes()"
   ]
  },
  {
   "cell_type": "code",
   "execution_count": 11,
   "id": "d2e630e6",
   "metadata": {},
   "outputs": [
    {
     "data": {
      "text/plain": [
       "EdgeView([('mesushovan', 'Positive'), ('mesushovan', 'UttarPradeshElections2022'), ('mesushovan', 'OperationGanga'), ('IAS_vinod_', 'Neutral'), ('IAS_vinod_', 'OperationGanga'), ('sujitmahapatra', 'Positive'), ('sujitmahapatra', 'OperationGanga'), ('sujitmahapatra', 'Reuters'), ('sujitmahapatra', 'MEAIndia'), ('MOS_MEA', 'Positive'), ('MOS_MEA', 'OperationGanga'), ('MOS_MEA', 'AirAsiaIndia'), ('htTweets', 'Positive'), ('htTweets', 'Kyiv'), ('htTweets', 'RussiaUkraineWar'), ('htTweets', 'OperationGanga'), ('RepublicBhratTV', 'Positive'), ('RepublicBhratTV', 'Ukriane'), ('RepublicBhratTV', 'pmcaresfund'), ('RepublicBhratTV', 'OperationGanga'), ('RepublicBhratTV', 'MeenaDasNarayan'), ('agulindian', 'Neutral'), ('agulindian', 'operationganga'), ('agulindian', 'srivatsayb'), ('agulindian', 'RahulGandhi'), ('eOrganiser', 'Neutral'), ('eOrganiser', 'RahulGandhi'), ('eOrganiser', 'NDTV'), ('eOrganiser', 'OperationGanga'), ('Deborah27264348', 'Positive'), ('Deborah27264348', 'Ukraine'), ('Deborah27264348', 'OperationGanga'), ('Deborah27264348', 'MoCA_GoI'), ('RiddhiGoyal07', 'Neutral'), ('RiddhiGoyal07', 'OperationGanga'), ('RiddhiGoyal07', 'Asifrahmanmolla')])"
      ]
     },
     "execution_count": 11,
     "metadata": {},
     "output_type": "execute_result"
    }
   ],
   "source": [
    "\n",
    "graph1.edges()"
   ]
  },
  {
   "cell_type": "code",
   "execution_count": 12,
   "id": "125cc022",
   "metadata": {},
   "outputs": [
    {
     "data": {
      "image/png": "[encoded data removed]",
      "text/plain": [
       "<Figure size 432x288 with 1 Axes>"
      ]
     },
     "metadata": {},
     "output_type": "display_data"
    }
   ],
   "source": [
    "import math\n",
    "pos = nx.spring_layout(graph1)\n",
    "nx.draw(graph1,pos=pos)"
   ]
  },
  {
   "cell_type": "code",
   "execution_count": 13,
   "id": "5311c0bd",
   "metadata": {},
   "outputs": [
    {
     "data": {
      "image/png": "[encoded data removed]",
      "text/plain": [
       "<Figure size 432x288 with 1 Axes>"
      ]
     },
     "metadata": {},
     "output_type": "display_data"
    }
   ],
   "source": [
    "# method 2\n",
    "nx.draw_networkx(graph1,with_labels=False)\n",
    "\n"
   ]
  },
  {
   "cell_type": "code",
   "execution_count": null,
   "id": "87104ce4",
   "metadata": {},
   "outputs": [],
   "source": []
  },
  {
   "cell_type": "code",
   "execution_count": 14,
   "id": "4bb32281",
   "metadata": {},
   "outputs": [
    {
     "data": {
      "text/plain": [
       "[('OperationGanga', 9),\n",
       " ('Positive', 6),\n",
       " ('RepublicBhratTV', 5),\n",
       " ('sujitmahapatra', 4),\n",
       " ('htTweets', 4),\n",
       " ('agulindian', 4),\n",
       " ('eOrganiser', 4),\n",
       " ('Deborah27264348', 4),\n",
       " ('Neutral', 4),\n",
       " ('mesushovan', 3),\n",
       " ('MOS_MEA', 3),\n",
       " ('RiddhiGoyal07', 3),\n",
       " ('IAS_vinod_', 2),\n",
       " ('RahulGandhi', 2),\n",
       " ('pmcaresfund', 1),\n",
       " ('operationganga', 1),\n",
       " ('srivatsayb', 1),\n",
       " ('MeenaDasNarayan', 1),\n",
       " ('MoCA_GoI', 1),\n",
       " ('Reuters', 1),\n",
       " ('Asifrahmanmolla', 1),\n",
       " ('AirAsiaIndia', 1),\n",
       " ('MEAIndia', 1),\n",
       " ('UttarPradeshElections2022', 1),\n",
       " ('Kyiv', 1),\n",
       " ('RussiaUkraineWar', 1),\n",
       " ('Ukriane', 1),\n",
       " ('NDTV', 1),\n",
       " ('Ukraine', 1),\n",
       " ('uttarpradeshelections2022', 0),\n",
       " ('ukraine', 0),\n",
       " ('ukriane', 0),\n",
       " ('ndtv', 0),\n",
       " ('russiaukrainewar', 0),\n",
       " ('rahulgandhi', 0),\n",
       " ('kyiv', 0)]"
      ]
     },
     "execution_count": 14,
     "metadata": {},
     "output_type": "execute_result"
    }
   ],
   "source": [
    "sorted(graph1.degree, key=lambda x: x[1], reverse=True)"
   ]
  },
  {
   "cell_type": "code",
   "execution_count": 15,
   "id": "6a6f0440",
   "metadata": {},
   "outputs": [
    {
     "data": {
      "text/plain": [
       "5"
      ]
     },
     "execution_count": 15,
     "metadata": {},
     "output_type": "execute_result"
    }
   ],
   "source": [
    "\n",
    "\n",
    "# Degree of Connection \n",
    "nx.degree(graph1,'RepublicBhratTV')\n",
    "\n"
   ]
  },
  {
   "cell_type": "code",
   "execution_count": 16,
   "id": "593d5726",
   "metadata": {},
   "outputs": [
    {
     "name": "stdout",
     "output_type": "stream",
     "text": [
      "OperationGanga 0.2571428571428571\n",
      "Positive 0.17142857142857143\n",
      "RepublicBhratTV 0.14285714285714285\n",
      "sujitmahapatra 0.11428571428571428\n",
      "htTweets 0.11428571428571428\n",
      "agulindian 0.11428571428571428\n",
      "eOrganiser 0.11428571428571428\n",
      "Deborah27264348 0.11428571428571428\n",
      "Neutral 0.11428571428571428\n",
      "mesushovan 0.08571428571428572\n",
      "MOS_MEA 0.08571428571428572\n",
      "RiddhiGoyal07 0.08571428571428572\n",
      "IAS_vinod_ 0.05714285714285714\n",
      "RahulGandhi 0.05714285714285714\n",
      "pmcaresfund 0.02857142857142857\n",
      "operationganga 0.02857142857142857\n",
      "srivatsayb 0.02857142857142857\n",
      "MeenaDasNarayan 0.02857142857142857\n",
      "MoCA_GoI 0.02857142857142857\n",
      "Reuters 0.02857142857142857\n",
      "Asifrahmanmolla 0.02857142857142857\n",
      "AirAsiaIndia 0.02857142857142857\n",
      "MEAIndia 0.02857142857142857\n",
      "UttarPradeshElections2022 0.02857142857142857\n",
      "Kyiv 0.02857142857142857\n",
      "RussiaUkraineWar 0.02857142857142857\n",
      "Ukriane 0.02857142857142857\n",
      "NDTV 0.02857142857142857\n",
      "Ukraine 0.02857142857142857\n",
      "uttarpradeshelections2022 0.0\n",
      "ukraine 0.0\n",
      "ukriane 0.0\n",
      "ndtv 0.0\n",
      "russiaukrainewar 0.0\n",
      "rahulgandhi 0.0\n",
      "kyiv 0.0\n"
     ]
    }
   ],
   "source": [
    "#Most Influential\n",
    "#nx.degree_centrality()\n",
    "\n",
    "\n",
    "most_influential = nx.degree_centrality(graph1)\n",
    "for w in sorted(most_influential, key=most_influential.get, reverse=True):\n",
    "    print(w, most_influential[w])\n",
    "\n"
   ]
  },
  {
   "cell_type": "code",
   "execution_count": null,
   "id": "52eec55f",
   "metadata": {},
   "outputs": [],
   "source": []
  },
  {
   "cell_type": "code",
   "execution_count": 17,
   "id": "d8b1d8c5",
   "metadata": {},
   "outputs": [
    {
     "name": "stdout",
     "output_type": "stream",
     "text": [
      "OperationGanga 0.5216825443597493\n",
      "Positive 0.3853791625298223\n",
      "RepublicBhratTV 0.2792327509792147\n",
      "sujitmahapatra 0.2592725020000699\n",
      "htTweets 0.2592725020000699\n",
      "Deborah27264348 0.2592725020000699\n",
      "mesushovan 0.24197540731222855\n",
      "MOS_MEA 0.24197540731222855\n",
      "eOrganiser 0.19693142635637095\n",
      "RiddhiGoyal07 0.17966210874848199\n",
      "IAS_vinod_ 0.1684251507909052\n",
      "Neutral 0.15178301750532716\n",
      "pmcaresfund 0.06983147865027908\n",
      "MeenaDasNarayan 0.06983147865027908\n",
      "Ukriane 0.06983147865027908\n",
      "Reuters 0.06483981041942549\n",
      "MEAIndia 0.06483981041942549\n",
      "Kyiv 0.06483981041942549\n",
      "RussiaUkraineWar 0.06483981041942549\n",
      "MoCA_GoI 0.06483981041942548\n",
      "Ukraine 0.06483981041942548\n",
      "RahulGandhi 0.06473033294815077\n",
      "agulindian 0.061892463121481306\n",
      "AirAsiaIndia 0.060514126310633375\n",
      "UttarPradeshElections2022 0.060514126310633375\n",
      "NDTV 0.049250697272750686\n",
      "Asifrahmanmolla 0.04493149090607129\n",
      "operationganga 0.01547963567540008\n",
      "srivatsayb 0.01547963567540008\n",
      "uttarpradeshelections2022 1.3146195960779059e-21\n",
      "ukraine 1.3146195960779059e-21\n",
      "ukriane 1.3146195960779059e-21\n",
      "ndtv 1.3146195960779059e-21\n",
      "russiaukrainewar 1.3146195960779059e-21\n",
      "rahulgandhi 1.3146195960779059e-21\n",
      "kyiv 1.3146195960779059e-21\n"
     ]
    }
   ],
   "source": [
    "### Most Important Connection\n",
    "#nx.eigenvector_centrality\n",
    "most_important_link = nx.eigenvector_centrality(graph1)\n",
    "for w in sorted(most_important_link, key=most_important_link.get, reverse=True):\n",
    "    print(w, most_important_link[w])"
   ]
  },
  {
   "cell_type": "code",
   "execution_count": 18,
   "id": "afe26f3f",
   "metadata": {},
   "outputs": [
    {
     "name": "stdout",
     "output_type": "stream",
     "text": [
      "OperationGanga 0.41092436974789914\n",
      "eOrganiser 0.1400560224089636\n",
      "RepublicBhratTV 0.1341736694677871\n",
      "Neutral 0.10210084033613445\n",
      "Positive 0.1\n",
      "sujitmahapatra 0.09215686274509804\n",
      "htTweets 0.09215686274509804\n",
      "Deborah27264348 0.09215686274509804\n",
      "agulindian 0.09159663865546218\n",
      "RiddhiGoyal07 0.07997198879551819\n",
      "mesushovan 0.0484593837535014\n",
      "MOS_MEA 0.0484593837535014\n",
      "IAS_vinod_ 0.03459383753501402\n",
      "RahulGandhi 0.028991596638655463\n",
      "uttarpradeshelections2022 0.0\n",
      "ukraine 0.0\n",
      "pmcaresfund 0.0\n",
      "ukriane 0.0\n",
      "ndtv 0.0\n",
      "operationganga 0.0\n",
      "russiaukrainewar 0.0\n",
      "rahulgandhi 0.0\n",
      "kyiv 0.0\n",
      "srivatsayb 0.0\n",
      "MeenaDasNarayan 0.0\n",
      "MoCA_GoI 0.0\n",
      "Reuters 0.0\n",
      "Asifrahmanmolla 0.0\n",
      "AirAsiaIndia 0.0\n",
      "MEAIndia 0.0\n",
      "UttarPradeshElections2022 0.0\n",
      "Kyiv 0.0\n",
      "RussiaUkraineWar 0.0\n",
      "Ukriane 0.0\n",
      "NDTV 0.0\n",
      "Ukraine 0.0\n"
     ]
    }
   ],
   "source": [
    "### Betweener Centrality\n",
    "#Bridge/Connect\n",
    "best_connector = nx.betweenness_centrality(graph1)\n",
    "for w in sorted(best_connector, key=best_connector.get, reverse=True):\n",
    "    print(w, best_connector[w])\n",
    "\n"
   ]
  },
  {
   "cell_type": "code",
   "execution_count": 19,
   "id": "c3031d37",
   "metadata": {},
   "outputs": [
    {
     "data": {
      "image/png": "[encoded data removed]",
      "text/plain": [
       "<Figure size 432x288 with 1 Axes>"
      ]
     },
     "metadata": {},
     "output_type": "display_data"
    }
   ],
   "source": [
    "group1 = nx.bfs_tree(graph1,'RepublicBhratTV')\n",
    "nx.draw_networkx(group1)"
   ]
  },
  {
   "cell_type": "code",
   "execution_count": 20,
   "id": "5ea69538",
   "metadata": {},
   "outputs": [],
   "source": [
    "#For Undirected GRaph\n",
    "#nx.node_connected_component(graph1,\"JagranEnglish\")"
   ]
  },
  {
   "cell_type": "code",
   "execution_count": 21,
   "id": "3e5134c5",
   "metadata": {},
   "outputs": [
    {
     "data": {
      "text/plain": [
       "{'mesushovan': 0,\n",
       " 'IAS_vinod_': 0,\n",
       " 'sujitmahapatra': 0,\n",
       " 'MOS_MEA': 0,\n",
       " 'htTweets': 0,\n",
       " 'RepublicBhratTV': 0,\n",
       " 'agulindian': 0,\n",
       " 'eOrganiser': 0,\n",
       " 'Deborah27264348': 0,\n",
       " 'RiddhiGoyal07': 0,\n",
       " 'Positive': 0,\n",
       " 'Neutral': 0,\n",
       " 'uttarpradeshelections2022': 0,\n",
       " 'ukraine': 0,\n",
       " 'pmcaresfund': 0,\n",
       " 'ukriane': 0,\n",
       " 'ndtv': 0,\n",
       " 'operationganga': 0,\n",
       " 'russiaukrainewar': 0,\n",
       " 'rahulgandhi': 0,\n",
       " 'kyiv': 0,\n",
       " 'srivatsayb': 0,\n",
       " 'MeenaDasNarayan': 0,\n",
       " 'RahulGandhi': 0,\n",
       " 'MoCA_GoI': 0,\n",
       " 'Reuters': 0,\n",
       " 'Asifrahmanmolla': 0,\n",
       " 'AirAsiaIndia': 0,\n",
       " 'MEAIndia': 0,\n",
       " 'UttarPradeshElections2022': 0,\n",
       " 'OperationGanga': 0,\n",
       " 'Kyiv': 0,\n",
       " 'RussiaUkraineWar': 0,\n",
       " 'Ukriane': 0,\n",
       " 'NDTV': 0,\n",
       " 'Ukraine': 0}"
      ]
     },
     "execution_count": 21,
     "metadata": {},
     "output_type": "execute_result"
    }
   ],
   "source": [
    "\n",
    "\n",
    "### Association \n",
    "#nx.clustering\n",
    "nx.clustering(graph1)\n"
   ]
  },
  {
   "cell_type": "code",
   "execution_count": null,
   "id": "37da6fdb",
   "metadata": {},
   "outputs": [],
   "source": []
  }
 ],
 "metadata": {
  "kernelspec": {
   "display_name": "Python 3 (ipykernel)",
   "language": "python",
   "name": "python3"
  },
  "language_info": {
   "codemirror_mode": {
    "name": "ipython",
    "version": 3
   },
   "file_extension": ".py",
   "mimetype": "text/x-python",
   "name": "python",
   "nbconvert_exporter": "python",
   "pygments_lexer": "ipython3",
   "version": "3.8.12"
  }
 },
 "nbformat": 4,
 "nbformat_minor": 5
}
